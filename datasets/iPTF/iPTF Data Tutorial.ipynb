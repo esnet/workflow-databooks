{
 "cells": [
  {
   "cell_type": "code",
   "execution_count": 34,
   "metadata": {
    "run_control": {
     "marked": true
    },
    "scrolled": false
   },
   "outputs": [
    {
     "name": "stdout",
     "output_type": "stream",
     "text": [
      "Downloading data. It may take a while depending on your network connection.\n",
      "--2018-08-01 14:27:31--  http://portal.nersc.gov/project/astro250/xswap/iptf/timing.csv\n",
      "Resolving portal.nersc.gov (portal.nersc.gov)... 128.55.201.128\n",
      "Connecting to portal.nersc.gov (portal.nersc.gov)|128.55.201.128|:80... connected.\n",
      "HTTP request sent, awaiting response... 200 OK\n",
      "Length: 1120623419 (1.0G) [text/csv]\n",
      "Saving to: ‘timing.csv’\n",
      "\n",
      "timing.csv          100%[===================>]   1.04G  21.9MB/s    in 47s     \n",
      "\n",
      "2018-08-01 14:28:18 (22.6 MB/s) - ‘timing.csv’ saved [1120623419/1120623419]\n",
      "\n",
      "--2018-08-01 14:28:18--  http://portal.nersc.gov/project/astro250/xswap/iptf/image.csv\n",
      "Resolving portal.nersc.gov (portal.nersc.gov)... 128.55.201.128\n",
      "Connecting to portal.nersc.gov (portal.nersc.gov)|128.55.201.128|:80... connected.\n",
      "HTTP request sent, awaiting response... 200 OK\n",
      "Length: 96224615 (92M) [text/csv]\n",
      "Saving to: ‘image.csv’\n",
      "\n",
      "image.csv           100%[===================>]  91.77M  22.5MB/s    in 4.3s    \n",
      "\n",
      "2018-08-01 14:28:22 (21.4 MB/s) - ‘image.csv’ saved [96224615/96224615]\n",
      "\n",
      "--2018-08-01 14:28:23--  http://portal.nersc.gov/project/astro250/xswap/iptf/README\n",
      "Resolving portal.nersc.gov (portal.nersc.gov)... 128.55.201.128\n",
      "Connecting to portal.nersc.gov (portal.nersc.gov)|128.55.201.128|:80... connected.\n",
      "HTTP request sent, awaiting response... 200 OK\n",
      "Length: 2956 (2.9K) [text/plain]\n",
      "Saving to: ‘README’\n",
      "\n",
      "README              100%[===================>]   2.89K  --.-KB/s    in 0s      \n",
      "\n",
      "2018-08-01 14:28:23 (157 MB/s) - ‘README’ saved [2956/2956]\n",
      "\n",
      "\n",
      "\n",
      "The following describes the iPTF data in the 2 csv files:\n",
      "\n",
      "image.csv\n",
      "\n",
      "id - identifies individual image\n",
      "ra - Right Ascension\n",
      "dec - Declination\n",
      "utc_obs - UTC time of start of observation\n",
      "jd - Julian Date for above\n",
      "airmass - Airmass\n",
      "ptffield - The PTF Field ID\n",
      "ccdid - The Chip ID\n",
      "filter - Filter\n",
      "seeing - Seeing\n",
      "lmt_mg - Limiting magnitude\n",
      "objs_extracted - # of objects extracted\n",
      "objs_saved - # of objects saved passing cuts\n",
      "ec_lon - Ecliptic Longitude\n",
      "ec_lat - Ecliptic Lattitude\n",
      "gal_lon - Galactic Longitude\n",
      "gal_lat - Galactic Lattitude\n",
      "color_excess - Extinction on sky\n",
      "\n",
      "\n",
      "timing.csv:\n",
      "\n",
      "id - identifies individual image\n",
      "checkpointid - see below\n",
      "time - the UTC time for each checkpoint\n",
      "utime - the unix time between the current checkpoint and the previous one\n",
      "\n",
      "\n",
      " \n",
      "\n",
      "the checkpoints are the following:\n",
      "\n",
      " id |                                  description                                   \n",
      "----+--------------------------------------------------------------------------------\n",
      "  0 | start of telescope image taking (shutter open): experiment: 60s exp & 30s readout followed by transfer time (network)\n",
      "  1 | data transfered to NERSC\n",
      "  2 | read in raw data (I/O)\n",
      "  3 | overscan subtraction (I/O + small cpu)\n",
      "  4 | perform bias subtraction and flat correction (I/O + small cpu)\n",
      "  5 | write to an individual FITS file (I/O)\n",
      "  6 | run SExtractor for astrometry.net (cpu)\n",
      "  7 | run augumentxylist (cpu)\n",
      "  8 | run astrometry.net in serial (cpu)\n",
      "  9 | assign WCS from astrometry.net (cpu)\n",
      " 10 | write to a FITS file with a WCS solution (I/O)\n",
      " 11 | run SExtractor to solve photometry (cpu)\n",
      " 12 | query DB to find calibration stars (db)\n",
      " 13 | solve the photometry with calibration stars (small cpu)\n",
      " 14 | write to a FITS file with a photometry solution (I/O)\n",
      " 15 | look for reference image in the DB (db)\n",
      " 16 | link calibration files for image subtraction (I/O)\n",
      " 17 | run SExtractor for SCAMP (cpu)\n",
      " 18 | run SCAMP (cpu)\n",
      " 19 | update the WCS solution from SCAMP (I/O)\n",
      " 20 | write to a FITS file with an updated WCS solution from SCAMP (I/O)\n",
      " 21 | run SWarp to remap the reference image (I/O + cpu)\n",
      " 22 | run SExtractor to produce a noise map for the remapped reference image (I/O + cpu)\n",
      " 23 | convert the noise map to a mask (cpu)\n",
      " 24 | combine the new and ref masks to make a super mask (I/O + cpu)\n",
      " 25 | run hotpants for image subtraction (cpu)\n",
      " 26 | update header keywords in the subtracted image (I/O)\n",
      " 27 | run SExtractor on reference and subtracted images three times (cpu)\n",
      " 28 | calculate basic features of candidates and generate load files (cpu)\n",
      " 29 | run RB2 (cpu)\n",
      " 30 | run RB4 (cpu)\n",
      " 31 | run RB5 (cpu)\n",
      " 32 | copy files to the /project disk (I/O)\n",
      " 33 | load new image, subtracted image and candidates, and examine if the sub is bad (db)\n",
      " 34 | cross-match minor planets (db)\n",
      " 35 | cross-match star catalogs (db)\n",
      " 36 | associate candidates with TILU galaxies (db)\n",
      " 37 | cross-match the SDSS quasar catalog (db)\n",
      " 38 | cross-match a CV catalog (db)\n",
      " 39 | finish\n",
      "\n"
     ]
    }
   ],
   "source": [
    "remote_timing_file = \"http://portal.nersc.gov/project/astro250/xswap/iptf/timing.csv\"\n",
    "remote_image_file = \"http://portal.nersc.gov/project/astro250/xswap/iptf/image.csv\"\n",
    "remote_readme_file = \"http://portal.nersc.gov/project/astro250/xswap/iptf/README\"\n",
    "\n",
    "# Please set local storage for the files\n",
    "target_dir = \"~/tmp/iptf\"\n",
    "!mkdir -p $target_dir;\n",
    "\n",
    "local_timing_file = target_dir + \"/timing.csv\"\n",
    "local_image_file = target_dir + \"/image.csv\"\n",
    "local_readme_file = target_dir + \"/README\"\n",
    "sorted_image_file = target_dir + \"/sorted_image.csv\"\n",
    "sorted_timing_file = target_dir + \"/sorted_timing.csv\"\n",
    "\n",
    "import os.path\n",
    "if not os.path.exists(local_readme_file):\n",
    "    print(\"Downloading data. It may take a while depending on your network connection.\")\n",
    "    !cd $target_dir;wget $remote_timing_file\n",
    "    !cd $target_dir;wget $remote_image_file\n",
    "    !cd $target_dir;wget $remote_readme_file\n",
    "\n",
    "!cd $target_dir;cat README"
   ]
  },
  {
   "cell_type": "code",
   "execution_count": 139,
   "metadata": {
    "run_control": {
     "marked": true
    }
   },
   "outputs": [],
   "source": [
    "import pandas as pd\n",
    "import datetime\n",
    "\n",
    "def get_timing_features():\n",
    "    time_features = []\n",
    "    utime_features = []\n",
    "    for i in range(0,40):\n",
    "        time_features.append('time_' + str(i))\n",
    "        utime_features.append('utime_' + str(i))\n",
    "    return time_features, utime_features\n",
    "\n",
    "\n",
    "\n",
    "def loadImageFile (image_file, timing_file):\n",
    "    print (\"reading \" + image_file)\n",
    "    images = pd.read_csv(image_file, index_col = 0)\n",
    "    time_features, utime_features = get_timing_features()\n",
    "    features = time_features + utime_features\n",
    "    tf = {}\n",
    "    \n",
    "    for x in features:\n",
    "        images.insert(loc=len(images.keys()), column = x, value = None)\n",
    "        tf[x] = pd.DataFrame(columns=[x])\n",
    "   \n",
    "    print (\"reading \" + timing_file)\n",
    "    timings = pd.read_csv(timing_file) \n",
    "    print (\"re-indexing\")\n",
    "    timings.reset_index(inplace=True)\n",
    "    print (\"merging files\")\n",
    "    t_index = 0\n",
    "    t_len = len(timings)\n",
    "    if False:\n",
    "        return images,timings, None\n",
    "    \n",
    "    while t_index < t_len:\n",
    "        for cid in range(40):\n",
    "            cp = timings.iloc[t_index + cid]\n",
    "            cp_id = cp['id']\n",
    "            cp_cid = cp['checkpointid']\n",
    "            cp_time = cp['time']\n",
    "            cp_utime = cp['utime']\n",
    "            name = 'time_' + str(cp_cid)\n",
    "            tf[name].append(pd.DataFrame([{name:cp_time}]))\n",
    "            name = 'utime_' + str(cp_cid)\n",
    "            tf[name].append(pd.DataFrame([{name:cp_utime}]))\n",
    "            if (t_index + cid) % 1000 == 0:\n",
    "                print(str(t_index) + \" of \" + str(t_len) +\"\\t\\t\"+ str(datetime.datetime.now()))\n",
    "        t_index += 40\n",
    "        if t_index >= 10000:\n",
    "            break\n",
    "    return images, timings, tf\n",
    "\n",
    "\n",
    "def normalize_file(src_file, dst_file):\n",
    "    print ('load ' + src_file)\n",
    "    timings = pd.read_csv(src_file)\n",
    "    print ('sort id' + src_file)\n",
    "    sorted_timings = timings.sort_values(by='id')\n",
    "    print (\"write \" + dst_file)\n",
    "    sorted_timings.to_csv(path_or_buf=dst_file, index=False)\n",
    "    print (\"completed\")\n"
   ]
  },
  {
   "cell_type": "code",
   "execution_count": null,
   "metadata": {},
   "outputs": [],
   "source": [
    "   z = timings[['checkpointid','time','utime']]\n",
    "    nb = len(z)\n",
    "    i = 0\n",
    "    j = 0\n",
    "    while j < nb:\n",
    "        x= ((z[j:j+40]).sort_values(by='checkpointid'))[['time','utime']]\n",
    "        rt = pd.DataFrame(x['time'])\n",
    "        rt.index = t\n",
    "        ru = pd.DataFrame(x['utime'])\n",
    "        ru = ru.rename (columns= {\"utime\":\"time\"})\n",
    "        ru.index = u\n",
    "        rr = rt.append(ru, sort=False)\n",
    "        rr = rr.T \n",
    "        #print (rr.iloc[0])\n",
    "        images.iloc[i,18:] = rr.iloc[0]\n",
    "        #print (images.iloc[i])\n",
    "        j += 40\n",
    "        i += 1\n",
    "        if i % 1000:\n",
    "            print(str + datetime.datetime.now())"
   ]
  },
  {
   "cell_type": "code",
   "execution_count": 39,
   "metadata": {},
   "outputs": [
    {
     "name": "stdout",
     "output_type": "stream",
     "text": [
      "load ~/tmp/iptf/image.csv\n",
      "sort id~/tmp/iptf/image.csv\n",
      "write ~/tmp/iptf/sorted_image.csv\n",
      "load ~/tmp/iptf/timing.csv\n",
      "sort id~/tmp/iptf/timing.csv\n",
      "write ~/tmp/iptf/sorted_timing.csv\n"
     ]
    }
   ],
   "source": [
    "normalize_file(local_image_file, sorted_image_file)\n",
    "normalize_file(local_timing_file, sorted_timing_file)"
   ]
  },
  {
   "cell_type": "code",
   "execution_count": 140,
   "metadata": {},
   "outputs": [
    {
     "name": "stdout",
     "output_type": "stream",
     "text": [
      "reading ~/tmp/iptf/image.csv\n",
      "reading ~/tmp/iptf/timing.csv\n",
      "re-indexing\n",
      "merging files\n",
      "0 of 24019080\t\t2018-08-01 16:02:48.814610\n",
      "1000 of 24019080\t\t2018-08-01 16:02:50.766779\n",
      "2000 of 24019080\t\t2018-08-01 16:02:52.791660\n",
      "3000 of 24019080\t\t2018-08-01 16:02:54.700254\n",
      "4000 of 24019080\t\t2018-08-01 16:02:56.616242\n",
      "5000 of 24019080\t\t2018-08-01 16:02:58.518753\n",
      "6000 of 24019080\t\t2018-08-01 16:03:00.442865\n",
      "7000 of 24019080\t\t2018-08-01 16:03:02.394139\n",
      "8000 of 24019080\t\t2018-08-01 16:03:04.310839\n",
      "9000 of 24019080\t\t2018-08-01 16:03:06.212921\n"
     ]
    }
   ],
   "source": [
    "images=None\n",
    "timings=None\n",
    "\n",
    "images, timings, tf = loadImageFile(local_image_file, local_timing_file)"
   ]
  },
  {
   "cell_type": "code",
   "execution_count": 145,
   "metadata": {},
   "outputs": [
    {
     "name": "stdout",
     "output_type": "stream",
     "text": [
      "2.0849895833333334\n"
     ]
    }
   ],
   "source": [
    "r = 75/10000\n",
    "print (r*24019080/(60*60*24))"
   ]
  },
  {
   "cell_type": "code",
   "execution_count": null,
   "metadata": {
    "collapsed": true
   },
   "outputs": [],
   "source": []
  },
  {
   "cell_type": "code",
   "execution_count": null,
   "metadata": {},
   "outputs": [],
   "source": []
  },
  {
   "cell_type": "code",
   "execution_count": null,
   "metadata": {
    "collapsed": true
   },
   "outputs": [],
   "source": []
  },
  {
   "cell_type": "code",
   "execution_count": null,
   "metadata": {},
   "outputs": [],
   "source": []
  },
  {
   "cell_type": "markdown",
   "metadata": {},
   "source": [
    "transfer time vs time of night\n",
    "\n",
    "utc_obs vs. time between step 0 and 1\n",
    "\n",
    "Galactic latitude vs subtraction time:\n",
    "\n",
    "gal_lat vs. time between 24 and 26"
   ]
  },
  {
   "cell_type": "code",
   "execution_count": null,
   "metadata": {},
   "outputs": [],
   "source": [
    "\n"
   ]
  },
  {
   "cell_type": "code",
   "execution_count": null,
   "metadata": {
    "collapsed": true
   },
   "outputs": [],
   "source": []
  },
  {
   "cell_type": "code",
   "execution_count": 103,
   "metadata": {
    "code_folding": [],
    "collapsed": true
   },
   "outputs": [],
   "source": [
    "df = pd.DataFrame(data=[[1,2]],columns = ['a','b'])"
   ]
  },
  {
   "cell_type": "code",
   "execution_count": 255,
   "metadata": {
    "collapsed": true
   },
   "outputs": [],
   "source": [
    "z = timings[['checkpointid','time','utime']]"
   ]
  },
  {
   "cell_type": "code",
   "execution_count": 272,
   "metadata": {
    "collapsed": true
   },
   "outputs": [],
   "source": [
    "x= ((z[0:40]).sort_values(by='checkpointid'))[['time','utime']]"
   ]
  },
  {
   "cell_type": "code",
   "execution_count": 273,
   "metadata": {},
   "outputs": [
    {
     "name": "stdout",
     "output_type": "stream",
     "text": [
      "                                time        utime\n",
      "23423596     2015-03-20 03:04:37.702     0.000000\n",
      "22818126  2015-03-20 04:17:12.423566  4354.721566\n",
      "22217649  2015-03-20 04:17:12.506983     0.083417\n",
      "21617172  2015-03-20 04:17:13.374036     0.867053\n",
      "21016695  2015-03-20 04:17:13.745572     0.371536\n",
      "20416218  2015-03-20 04:17:15.403216     1.657644\n",
      "19815741  2015-03-20 04:17:15.542033     0.138817\n",
      "19215264  2015-03-20 04:17:17.766029     2.223996\n",
      "18614787  2015-03-20 04:17:18.524554     0.758525\n",
      "18014310  2015-03-20 04:17:38.965292    20.440738\n",
      "17413833  2015-03-20 04:17:39.001262     0.035970\n",
      "16813356  2015-03-20 04:17:39.085677     0.084415\n",
      "16212879  2015-03-20 04:17:41.256771     2.171094\n",
      "15612402  2015-03-20 04:17:43.001172     1.744401\n",
      "15011925  2015-03-20 04:17:47.205149     4.203977\n",
      "14411448  2015-03-20 04:17:47.386064     0.180915\n",
      "13810971  2015-03-20 04:17:47.773047     0.386983\n",
      "13210494  2015-03-20 04:17:47.816621     0.043574\n",
      "12610017  2015-03-20 04:18:08.843939    21.027318\n",
      "12009540  2015-03-20 04:18:17.372238     8.528299\n",
      "11409063  2015-03-20 04:18:17.427826     0.055588\n",
      "10808586  2015-03-20 04:18:17.598382     0.170556\n",
      "10208109  2015-03-20 04:18:23.749755     6.151373\n",
      "9607632    2015-03-20 04:18:27.54191     3.792155\n",
      "9007155   2015-03-20 04:18:27.852884     0.310974\n",
      "8406678   2015-03-20 04:18:28.062756     0.209872\n",
      "7806201   2015-03-20 04:18:51.824525    23.761769\n",
      "7205724   2015-03-20 04:18:53.220197     1.395672\n",
      "6605247    2015-03-20 04:19:00.05422     6.834023\n",
      "6004770   2015-03-20 04:19:00.953304     0.899084\n",
      "5404293   2015-03-20 04:19:14.682787    13.729483\n",
      "4803816   2015-03-20 04:19:17.115488     2.432701\n",
      "4203339   2015-03-20 04:19:52.614393    35.498905\n",
      "3602862   2015-03-20 04:19:54.846295     2.231902\n",
      "3002385   2015-03-20 04:20:03.479906     8.633611\n",
      "2401908   2015-03-20 04:20:09.455479     5.975573\n",
      "1801431   2015-03-20 04:20:12.229544     2.774065\n",
      "1200954   2015-03-20 04:22:12.565906   120.336362\n",
      "600477    2015-03-20 04:22:12.807545     0.241639\n",
      "0         2015-03-20 04:22:14.148469     1.340924\n"
     ]
    }
   ],
   "source": [
    "print(x)"
   ]
  },
  {
   "cell_type": "code",
   "execution_count": 393,
   "metadata": {
    "collapsed": true
   },
   "outputs": [],
   "source": [
    "t,u = get_timing_features()\n",
    "rt = pd.DataFrame(x['time'])\n",
    "rt.index = t\n",
    "ru = pd.DataFrame(x['utime'])\n",
    "ru = ru.rename (columns= {\"utime\":\"time\"})\n",
    "ru.index = u\n",
    "rr = rt.append(ru, sort=False)\n",
    "rr = rr.T"
   ]
  },
  {
   "cell_type": "code",
   "execution_count": 394,
   "metadata": {},
   "outputs": [
    {
     "name": "stdout",
     "output_type": "stream",
     "text": [
      "                       time_0                      time_1  \\\n",
      "time  2015-03-20 03:04:37.702  2015-03-20 04:17:12.423566   \n",
      "\n",
      "                          time_2                      time_3  \\\n",
      "time  2015-03-20 04:17:12.506983  2015-03-20 04:17:13.374036   \n",
      "\n",
      "                          time_4                      time_5  \\\n",
      "time  2015-03-20 04:17:13.745572  2015-03-20 04:17:15.403216   \n",
      "\n",
      "                          time_6                      time_7  \\\n",
      "time  2015-03-20 04:17:15.542033  2015-03-20 04:17:17.766029   \n",
      "\n",
      "                          time_8                      time_9   ...     \\\n",
      "time  2015-03-20 04:17:18.524554  2015-03-20 04:17:38.965292   ...      \n",
      "\n",
      "     utime_30 utime_31 utime_32 utime_33 utime_34 utime_35 utime_36 utime_37  \\\n",
      "time  13.7295   2.4327  35.4989   2.2319  8.63361  5.97557  2.77407  120.336   \n",
      "\n",
      "      utime_38 utime_39  \n",
      "time  0.241639  1.34092  \n",
      "\n",
      "[1 rows x 80 columns]\n"
     ]
    }
   ],
   "source": [
    "print (rr)"
   ]
  },
  {
   "cell_type": "code",
   "execution_count": 388,
   "metadata": {},
   "outputs": [
    {
     "name": "stdout",
     "output_type": "stream",
     "text": [
      "41\n"
     ]
    }
   ],
   "source": [
    "print(len(rr))"
   ]
  },
  {
   "cell_type": "code",
   "execution_count": 107,
   "metadata": {
    "collapsed": true
   },
   "outputs": [],
   "source": [
    "d1 = pd.DataFrame([[1,2,3],[4,5,6]], index=[6,7],columns=['a','b','c'])"
   ]
  },
  {
   "cell_type": "code",
   "execution_count": 414,
   "metadata": {
    "collapsed": true
   },
   "outputs": [],
   "source": [
    "d2 = pd.DataFrame([[10]],columns=[1])"
   ]
  },
  {
   "cell_type": "code",
   "execution_count": 416,
   "metadata": {},
   "outputs": [
    {
     "data": {
      "text/html": [
       "<div>\n",
       "<style scoped>\n",
       "    .dataframe tbody tr th:only-of-type {\n",
       "        vertical-align: middle;\n",
       "    }\n",
       "\n",
       "    .dataframe tbody tr th {\n",
       "        vertical-align: top;\n",
       "    }\n",
       "\n",
       "    .dataframe thead th {\n",
       "        text-align: right;\n",
       "    }\n",
       "</style>\n",
       "<table border=\"1\" class=\"dataframe\">\n",
       "  <thead>\n",
       "    <tr style=\"text-align: right;\">\n",
       "      <th></th>\n",
       "      <th>0</th>\n",
       "      <th>1</th>\n",
       "      <th>1</th>\n",
       "    </tr>\n",
       "  </thead>\n",
       "  <tbody>\n",
       "    <tr>\n",
       "      <th>0</th>\n",
       "      <td>1</td>\n",
       "      <td>2</td>\n",
       "      <td>10.0</td>\n",
       "    </tr>\n",
       "    <tr>\n",
       "      <th>1</th>\n",
       "      <td>3</td>\n",
       "      <td>4</td>\n",
       "      <td>NaN</td>\n",
       "    </tr>\n",
       "  </tbody>\n",
       "</table>\n",
       "</div>"
      ],
      "text/plain": [
       "   0  1     1\n",
       "0  1  2  10.0\n",
       "1  3  4   NaN"
      ]
     },
     "execution_count": 416,
     "metadata": {},
     "output_type": "execute_result"
    }
   ],
   "source": [
    "dx = pd.concat([d1,d2],axis=1)\n",
    "dx"
   ]
  },
  {
   "cell_type": "code",
   "execution_count": 110,
   "metadata": {},
   "outputs": [
    {
     "data": {
      "text/html": [
       "<div>\n",
       "<style scoped>\n",
       "    .dataframe tbody tr th:only-of-type {\n",
       "        vertical-align: middle;\n",
       "    }\n",
       "\n",
       "    .dataframe tbody tr th {\n",
       "        vertical-align: top;\n",
       "    }\n",
       "\n",
       "    .dataframe thead th {\n",
       "        text-align: right;\n",
       "    }\n",
       "</style>\n",
       "<table border=\"1\" class=\"dataframe\">\n",
       "  <thead>\n",
       "    <tr style=\"text-align: right;\">\n",
       "      <th></th>\n",
       "      <th>a</th>\n",
       "      <th>b</th>\n",
       "      <th>c</th>\n",
       "    </tr>\n",
       "  </thead>\n",
       "  <tbody>\n",
       "    <tr>\n",
       "      <th>6</th>\n",
       "      <td>1</td>\n",
       "      <td>2</td>\n",
       "      <td>3</td>\n",
       "    </tr>\n",
       "    <tr>\n",
       "      <th>7</th>\n",
       "      <td>4</td>\n",
       "      <td>5</td>\n",
       "      <td>6</td>\n",
       "    </tr>\n",
       "    <tr>\n",
       "      <th>0</th>\n",
       "      <td>10</td>\n",
       "      <td>11</td>\n",
       "      <td>12</td>\n",
       "    </tr>\n",
       "  </tbody>\n",
       "</table>\n",
       "</div>"
      ],
      "text/plain": [
       "    a   b   c\n",
       "6   1   2   3\n",
       "7   4   5   6\n",
       "0  10  11  12"
      ]
     },
     "execution_count": 110,
     "metadata": {},
     "output_type": "execute_result"
    }
   ],
   "source": [
    "d1.append(pd.DataFrame([{'a':10,'b':11,'c':12}]))"
   ]
  },
  {
   "cell_type": "code",
   "execution_count": 108,
   "metadata": {},
   "outputs": [
    {
     "data": {
      "text/html": [
       "<div>\n",
       "<style scoped>\n",
       "    .dataframe tbody tr th:only-of-type {\n",
       "        vertical-align: middle;\n",
       "    }\n",
       "\n",
       "    .dataframe tbody tr th {\n",
       "        vertical-align: top;\n",
       "    }\n",
       "\n",
       "    .dataframe thead th {\n",
       "        text-align: right;\n",
       "    }\n",
       "</style>\n",
       "<table border=\"1\" class=\"dataframe\">\n",
       "  <thead>\n",
       "    <tr style=\"text-align: right;\">\n",
       "      <th></th>\n",
       "      <th>a</th>\n",
       "      <th>b</th>\n",
       "      <th>c</th>\n",
       "    </tr>\n",
       "  </thead>\n",
       "  <tbody>\n",
       "    <tr>\n",
       "      <th>6</th>\n",
       "      <td>1</td>\n",
       "      <td>2</td>\n",
       "      <td>3</td>\n",
       "    </tr>\n",
       "    <tr>\n",
       "      <th>7</th>\n",
       "      <td>4</td>\n",
       "      <td>5</td>\n",
       "      <td>6</td>\n",
       "    </tr>\n",
       "  </tbody>\n",
       "</table>\n",
       "</div>"
      ],
      "text/plain": [
       "   a  b  c\n",
       "6  1  2  3\n",
       "7  4  5  6"
      ]
     },
     "execution_count": 108,
     "metadata": {},
     "output_type": "execute_result"
    }
   ],
   "source": [
    "d1"
   ]
  },
  {
   "cell_type": "code",
   "execution_count": 462,
   "metadata": {
    "collapsed": true
   },
   "outputs": [],
   "source": [
    "d1.loc[1,1:] = [10,11]"
   ]
  },
  {
   "cell_type": "code",
   "execution_count": 102,
   "metadata": {},
   "outputs": [],
   "source": [
    "r = d1.iloc[0,0:]"
   ]
  },
  {
   "cell_type": "code",
   "execution_count": 104,
   "metadata": {},
   "outputs": [
    {
     "data": {
      "text/plain": [
       "2"
      ]
     },
     "execution_count": 104,
     "metadata": {},
     "output_type": "execute_result"
    }
   ],
   "source": [
    "r[1]"
   ]
  },
  {
   "cell_type": "code",
   "execution_count": null,
   "metadata": {
    "collapsed": true
   },
   "outputs": [],
   "source": [
    "dx"
   ]
  }
 ],
 "metadata": {
  "hide_input": false,
  "kernelspec": {
   "display_name": "Python 3",
   "language": "python",
   "name": "python3"
  },
  "language_info": {
   "codemirror_mode": {
    "name": "ipython",
    "version": 3
   },
   "file_extension": ".py",
   "mimetype": "text/x-python",
   "name": "python",
   "nbconvert_exporter": "python",
   "pygments_lexer": "ipython3",
   "version": "3.6.4"
  },
  "latex_envs": {
   "LaTeX_envs_menu_present": true,
   "autocomplete": true,
   "bibliofile": "biblio.bib",
   "cite_by": "apalike",
   "current_citInitial": 1,
   "eqLabelWithNumbers": true,
   "eqNumInitial": 1,
   "hotkeys": {
    "equation": "Ctrl-E",
    "itemize": "Ctrl-I"
   },
   "labels_anchors": false,
   "latex_user_defs": false,
   "report_style_numbering": false,
   "user_envs_cfg": false
  }
 },
 "nbformat": 4,
 "nbformat_minor": 2
}
