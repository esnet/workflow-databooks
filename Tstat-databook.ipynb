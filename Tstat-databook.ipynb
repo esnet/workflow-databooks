{
 "cells": [
  {
   "cell_type": "markdown",
   "metadata": {},
   "source": [
    "# ****Creating a new Tstat Data file****\n",
    "\n"
   ]
  },
  {
   "cell_type": "markdown",
   "metadata": {},
   "source": [
    "## Location\n",
    "\n",
    "Tstat data is:\n",
    "- Housed on an Elk cluster and contains UDP and TCP GridFTP logs.\n",
    "- Sample traces that can be downloaded and are publicly available for a number of other applications: http://tstat.polito.it/traces.shtml\n",
    "- May need a NERSC login to download data"
   ]
  },
  {
   "cell_type": "code",
   "execution_count": 2,
   "metadata": {
    "collapsed": false
   },
   "outputs": [
    {
     "data": {
      "text/plain": [
       "({'end': 1455698490,\n",
       "  'interval': 600,\n",
       "  'meta': {'dst_ip': '198.129.77.102',\n",
       "   'dst_port': 22,\n",
       "   'protocol': 'tcp',\n",
       "   'src_ip': '198.128.14.246',\n",
       "   'src_port': 58635},\n",
       "  'start': 1455698490,\n",
       "  'values': {'duration': 191.796,\n",
       "   'num_bits': 22120,\n",
       "   'num_packets': 14,\n",
       "   'tcp_cwin_max': 960,\n",
       "   'tcp_cwin_min': 16,\n",
       "   'tcp_initial_cwin': 21,\n",
       "   'tcp_max_seg_size': 960,\n",
       "   'tcp_min_seg_size': 16,\n",
       "   'tcp_mss': 1460,\n",
       "   'tcp_out_seq_pkts': 0,\n",
       "   'tcp_pkts_dup': 0,\n",
       "   'tcp_pkts_fc': 0,\n",
       "   'tcp_pkts_fs': 0,\n",
       "   'tcp_pkts_reor': 0,\n",
       "   'tcp_pkts_rto': 0,\n",
       "   'tcp_pkts_unfs': 0,\n",
       "   'tcp_pkts_unk': 0,\n",
       "   'tcp_pkts_unrto': 0,\n",
       "   'tcp_rexmit_bytes': 0,\n",
       "   'tcp_rexmit_pkts': 0,\n",
       "   'tcp_rtt_avg': 4.442,\n",
       "   'tcp_rtt_max': 39.094,\n",
       "   'tcp_rtt_min': 0.007,\n",
       "   'tcp_rtt_std': 10.648,\n",
       "   'tcp_win_max': 960,\n",
       "   'tcp_win_min': 16,\n",
       "   'tcp_window_scale': 7}},)"
      ]
     },
     "execution_count": 2,
     "metadata": {},
     "output_type": "execute_result"
    }
   ],
   "source": [
    "# TCP logs\n",
    "\n",
    "{\n",
    "    \"interval\": 600,\n",
    "    \"values\": {\n",
    "        \"duration\": 191.796,\n",
    "        \"num_bits\": 22120,\n",
    "        \"num_packets\": 14,\n",
    "        \"tcp_rexmit_bytes\": 0,\n",
    "        \"tcp_rexmit_pkts\": 0,\n",
    "        \"tcp_rtt_avg\": 4.442,\n",
    "        \"tcp_rtt_min\": 0.007,\n",
    "        \"tcp_rtt_max\": 39.094,\n",
    "        \"tcp_rtt_std\": 10.648,\n",
    "        \"tcp_pkts_rto\": 0,\n",
    "        \"tcp_pkts_fs\": 0,\n",
    "        \"tcp_pkts_reor\": 0,\n",
    "        \"tcp_pkts_dup\": 0,\n",
    "        \"tcp_pkts_unk\": 0,\n",
    "        \"tcp_pkts_fc\": 0,\n",
    "        \"tcp_pkts_unrto\": 0,\n",
    "        \"tcp_pkts_unfs\": 0,\n",
    "        \"tcp_cwin_min\": 16,\n",
    "        \"tcp_cwin_max\": 960,\n",
    "        \"tcp_out_seq_pkts\": 0,\n",
    "        \"tcp_window_scale\": 7,\n",
    "        \"tcp_mss\": 1460,\n",
    "        \"tcp_max_seg_size\": 960,\n",
    "        \"tcp_min_seg_size\": 16,\n",
    "        \"tcp_win_max\": 960,\n",
    "        \"tcp_win_min\": 16,\n",
    "        \"tcp_initial_cwin\": 21\n",
    "    },\n",
    "    \"meta\": {\n",
    "        \"src_ip\": \"198.128.14.246\",\n",
    "        \"src_port\": 58635,\n",
    "        \"dst_ip\": \"198.129.77.102\",\n",
    "        \"dst_port\": 22,\n",
    "        \"protocol\": \"tcp\"\n",
    "    },\n",
    "    \"start\": 1455698490,\n",
    "    \"end\": 1455698490\n",
    "},\n"
   ]
  },
  {
   "cell_type": "code",
   "execution_count": 3,
   "metadata": {
    "collapsed": false
   },
   "outputs": [
    {
     "data": {
      "text/plain": [
       "({'end': 1455745857,\n",
       "  'interval': 600,\n",
       "  'meta': {'dst_ip': '198.124.252.130',\n",
       "   'dst_port': 123,\n",
       "   'protocol': 'udp',\n",
       "   'src_ip': '198.129.77.102',\n",
       "   'src_port': 123},\n",
       "  'start': 1455745857,\n",
       "  'values': {'duration': 0.0, 'num_bits': 544, 'num_packets': 1}},)"
      ]
     },
     "execution_count": 3,
     "metadata": {},
     "output_type": "execute_result"
    }
   ],
   "source": [
    "# UDP logs:\n",
    "{\n",
    "    \"interval\": 600,\n",
    "    \"values\": {\n",
    "        \"duration\": 0.0,\n",
    "        \"num_bits\": 544,\n",
    "        \"num_packets\": 1\n",
    "    },\n",
    "    \"meta\": {\n",
    "        \"src_ip\": \"198.129.77.102\",\n",
    "        \"src_port\": 123,\n",
    "        \"dst_ip\": \"198.124.252.130\",\n",
    "        \"dst_port\": 123,\n",
    "        \"protocol\": \"udp\"\n",
    "    },\n",
    "    \"start\": 1455745857,\n",
    "    \"end\": 1455745857\n",
    "},"
   ]
  },
  {
   "cell_type": "markdown",
   "metadata": {},
   "source": [
    "## Possible Learning\n",
    "* Use Tstat data to analyze anomalous behaviour in data transfers from DTNs.\n"
   ]
  }
 ],
 "metadata": {
  "kernelspec": {
   "display_name": "Python 3",
   "language": "python",
   "name": "python3"
  },
  "language_info": {
   "codemirror_mode": {
    "name": "ipython",
    "version": 3
   },
   "file_extension": ".py",
   "mimetype": "text/x-python",
   "name": "python",
   "nbconvert_exporter": "python",
   "pygments_lexer": "ipython3",
   "version": "3.6.0"
  }
 },
 "nbformat": 4,
 "nbformat_minor": 2
}
