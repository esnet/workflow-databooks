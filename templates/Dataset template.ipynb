{
 "cells": [
  {
   "cell_type": "markdown",
   "metadata": {},
   "source": [
    "General information\n",
    "------------------\n",
    "\n",
    "Source (organization): ESnet\n",
    "\n",
    "Contacts: ESnet (Eric Pouyoul)\n",
    "\n",
    "Time coverage: 8/1/2015 until 1/16/2016\n",
    "\n",
    "Features type: TSTAT\n",
    "\n",
    "Access control: public\n",
    "\n",
    "Known users: X-SWAP\n"
   ]
  },
  {
   "cell_type": "markdown",
   "metadata": {},
   "source": [
    "Overview\n",
    "--------\n",
    "\n",
    "This data set consists of TSAT (http://tstat.polito.it/) collected at NERSC Data Transfer Nodes..."
   ]
  },
  {
   "cell_type": "markdown",
   "metadata": {},
   "source": [
    "Data repository\n",
    "--------------\n",
    "\n",
    "This data set is hosted on a ELK cluster hosted by NERSC..."
   ]
  },
  {
   "cell_type": "markdown",
   "metadata": {},
   "source": [
    "Access\n",
    "------\n",
    "\n",
    "Access requires to have NERSC NIM account..."
   ]
  },
  {
   "cell_type": "markdown",
   "metadata": {
    "collapsed": true
   },
   "source": [
    "Description\n",
    "-----------\n",
    "This data sets contains instrumented data relating to the behavior of TCP flows between two endpoints. TSTAT data is related to traditional network flow data but differs because it is collected at the source endpoint instead of an network interface resulting to a higher aggregation. Due to this quality, TSTAT data is easier to correlate with other measurements performed on the end hosts, such as application logs, I/O."
   ]
  },
  {
   "cell_type": "code",
   "execution_count": null,
   "metadata": {
    "collapsed": true
   },
   "outputs": [],
   "source": [
    "Pre-processing, Filtering\n",
    "-------------------------\n",
    "\n",
    "This data set only contains "
   ]
  },
  {
   "cell_type": "markdown",
   "metadata": {},
   "source": [
    "Results, issues, filtering, pre-proce\n",
    "------------------------------------\n",
    "\n",
    "X-SWAP initially used this data set for.. needed filtering on .. because.. initial promissing results are...\n"
   ]
  },
  {
   "cell_type": "markdown",
   "metadata": {},
   "source": [
    "Schema\n",
    "------\n",
    "\n"
   ]
  },
  {
   "cell_type": "code",
   "execution_count": null,
   "metadata": {
    "collapsed": true
   },
   "outputs": [],
   "source": [
    "# this is sample code quering the data set\n",
    "def query(somequery):\n",
    "    return someresults\n",
    "\n"
   ]
  }
 ],
 "metadata": {
  "kernelspec": {
   "display_name": "Python 2",
   "language": "python",
   "name": "python2"
  },
  "language_info": {
   "codemirror_mode": {
    "name": "ipython",
    "version": 2
   },
   "file_extension": ".py",
   "mimetype": "text/x-python",
   "name": "python",
   "nbconvert_exporter": "python",
   "pygments_lexer": "ipython2",
   "version": "2.7.13"
  }
 },
 "nbformat": 4,
 "nbformat_minor": 2
}
